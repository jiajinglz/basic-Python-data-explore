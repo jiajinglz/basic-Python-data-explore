{
 "cells": [
  {
   "cell_type": "markdown",
   "id": "486ae764",
   "metadata": {},
   "source": [
    "# Module 6 Assignment"
   ]
  },
  {
   "cell_type": "markdown",
   "id": "5f33eb95",
   "metadata": {},
   "source": [
    "* Problem 1: Create a function called the_next_15_days. The function will accept one  argument which is a date string in the form of %Y%m%d. Some examples of date strings in this format are ‘20200101’, ‘20210204’, and ‘19831201’. The function will convert this string into a datetime object and then return a list of 15 datetime objects that start on the date that was passed to the function and extend 15 days into the future.  Remember to test your function with different date strings."
   ]
  },
  {
   "cell_type": "code",
   "execution_count": null,
   "id": "77528023",
   "metadata": {},
   "outputs": [],
   "source": [
    "#import modules#\n",
    "from datetime import datetime, timedelta\n",
    "import glob\n",
    "import os"
   ]
  },
  {
   "cell_type": "code",
   "execution_count": 6,
   "id": "7b695b13",
   "metadata": {},
   "outputs": [
    {
     "name": "stdout",
     "output_type": "stream",
     "text": [
      "[datetime.datetime(2022, 6, 21, 0, 0), datetime.datetime(2022, 6, 22, 0, 0), datetime.datetime(2022, 6, 23, 0, 0), datetime.datetime(2022, 6, 24, 0, 0), datetime.datetime(2022, 6, 25, 0, 0), datetime.datetime(2022, 6, 26, 0, 0), datetime.datetime(2022, 6, 27, 0, 0), datetime.datetime(2022, 6, 28, 0, 0), datetime.datetime(2022, 6, 29, 0, 0), datetime.datetime(2022, 6, 30, 0, 0), datetime.datetime(2022, 7, 1, 0, 0), datetime.datetime(2022, 7, 2, 0, 0), datetime.datetime(2022, 7, 3, 0, 0), datetime.datetime(2022, 7, 4, 0, 0), datetime.datetime(2022, 7, 5, 0, 0), datetime.datetime(2022, 7, 6, 0, 0)]\n"
     ]
    }
   ],
   "source": [
    "#define the function#\n",
    "def the_next_15_days(input):\n",
    "    date_start= datetime.strptime(input, '%Y%m%d')\n",
    "    time_stap= timedelta(days=1)\n",
    "    time_interval= [date_start+ time_stap*i for i in range(16)]\n",
    "    return time_interval\n",
    "\n",
    "#test the function#\n",
    "dates= the_next_15_days(input= '20220621')\n",
    "print(dates)"
   ]
  },
  {
   "cell_type": "markdown",
   "id": "a8f66be3",
   "metadata": {},
   "source": [
    "* Problem 2: Create a function called count_files. The function will accept a string that is in the format of ‘glob pattern’ (review the lectures for example). The function will then use glob to determine how many files match the pattern. The function will return the count of the number of files that match. For example, if 5 files match the pattern, the function will return 5."
   ]
  },
  {
   "cell_type": "code",
   "execution_count": 12,
   "id": "8e0b2569",
   "metadata": {},
   "outputs": [
    {
     "data": {
      "text/plain": [
       "6"
      ]
     },
     "execution_count": 12,
     "metadata": {},
     "output_type": "execute_result"
    }
   ],
   "source": [
    "#define the function#\n",
    "def count_files(input):\n",
    "    data_path= os.path.join(input)\n",
    "    filepath= glob.glob(data_path)\n",
    "    counts= len(filepath)\n",
    "    return counts\n",
    "\n",
    "#test the function#\n",
    "count_files(input= '/Users/jjz/Desktop/uciPythonCourse/module*ipynb')"
   ]
  },
  {
   "cell_type": "markdown",
   "id": "bff7b374",
   "metadata": {},
   "source": [
    "* Problem 3: Create a function called make_dirs. This function will accept two parameters. The first will be a path to a directory that exists (the function will check if it exists). The second will be a list of directory names that you want created inside the directory that exists.  The function should check if the directory given in the first argument exists and is a directory. If the directory does not exist, the function will return False.  If the directory does exist, the function will create new directories inside of the directory. The second argument is a list that contains the names of the new directories. The function will also return True if the directory, given in the first argument, exists."
   ]
  },
  {
   "cell_type": "code",
   "execution_count": 29,
   "id": "8283e1ad",
   "metadata": {},
   "outputs": [
    {
     "data": {
      "text/plain": [
       "True"
      ]
     },
     "execution_count": 29,
     "metadata": {},
     "output_type": "execute_result"
    }
   ],
   "source": [
    "#define the function#\n",
    "def make_dirs(dir_name, new_dir):\n",
    "    dir_path= os.path.join(dir_name)\n",
    "    dir_status= os.path.exists(dir_path)\n",
    "    if os.path.isdir(dir_path):\n",
    "        for i in new_dir:\n",
    "            os.mkdir(os.path.join(dir_name, i))\n",
    "    return dir_status\n",
    "\n",
    "#test the function#\n",
    "make_dirs(dir_name= '/Users/jjz/Desktop/uciPythonCourse/test_dir/', new_dir= ['folder1', 'folder2', 'folder3'])"
   ]
  },
  {
   "cell_type": "markdown",
   "id": "45d26a61",
   "metadata": {},
   "source": [
    "* Problem 4: Create a function called create_dir_with_timestamp. The function will accept one argument. The argument is the path to a new directory that you want to create.  The function will create the directory; however, it will add the current datetime to the directory name. The datetime format should be like so ‘%Y%m%dT%H%M%S."
   ]
  },
  {
   "cell_type": "code",
   "execution_count": 45,
   "id": "f20abd53",
   "metadata": {},
   "outputs": [],
   "source": [
    "#define the function#\n",
    "def create_dir_with_timestamp(input):\n",
    "    dir_path= os.path.join(input)\n",
    "    time_now= datetime.now()\n",
    "    dir_name= dir_path+ '_'+ time_now.strftime('%Y%m%dT%H%M%S')\n",
    "    os.mkdir(dir_name)\n",
    "    return\n",
    "\n",
    "#test the function#\n",
    "create_dir_with_timestamp(input= '/Users/jjz/Desktop/uciPythonCourse/newFolder1')"
   ]
  },
  {
   "cell_type": "markdown",
   "id": "cafbc7c7",
   "metadata": {},
   "source": [
    "* Problem 5: Create a function called print_environment. This is a simpler function than the problems above; however, the subject may be less familiar. This function will print all of the environment variables.  You can use the os.environ attribute to access the current environment variables.  os.environ is a dictionary of the current environment variables, this is the dictionary you want to print.  The function will simply loop through the keys in the dictionary and print each key, value pair."
   ]
  },
  {
   "cell_type": "code",
   "execution_count": 50,
   "id": "b33ff7b9",
   "metadata": {},
   "outputs": [
    {
     "data": {
      "text/plain": [
       "environ{'TERM_SESSION_ID': 'w0t0p0:1F8AE24B-0286-42A6-B61C-6B5AA54E274B',\n",
       "        'SSH_AUTH_SOCK': '/private/tmp/com.apple.launchd.smMSvs7UBt/Listeners',\n",
       "        'LC_TERMINAL_VERSION': '3.4.16',\n",
       "        'COLORFGBG': '0;15',\n",
       "        'ITERM_PROFILE': 'Default',\n",
       "        'XPC_FLAGS': '0x0',\n",
       "        'LANG': 'en_US.UTF-8',\n",
       "        'PWD': '/Users/jjz',\n",
       "        'SHELL': '/bin/zsh',\n",
       "        '__CFBundleIdentifier': 'com.googlecode.iterm2',\n",
       "        'TERM_PROGRAM_VERSION': '3.4.16',\n",
       "        'TERM_PROGRAM': 'iTerm.app',\n",
       "        'PATH': '/opt/anaconda3/bin:/opt/anaconda3/condabin:/opt/homebrew/bin:/opt/homebrew/sbin:/usr/local/bin:/usr/bin:/bin:/usr/sbin:/sbin',\n",
       "        'LC_TERMINAL': 'iTerm2',\n",
       "        'COLORTERM': 'truecolor',\n",
       "        'COMMAND_MODE': 'unix2003',\n",
       "        'TERM': 'xterm-color',\n",
       "        'HOME': '/Users/jjz',\n",
       "        'TMPDIR': '/var/folders/sg/s95r8mxx6k16jk56yby_v_ww0000gn/T/',\n",
       "        'USER': 'jjz',\n",
       "        'XPC_SERVICE_NAME': '0',\n",
       "        'LOGNAME': 'jjz',\n",
       "        'ITERM_SESSION_ID': 'w0t0p0:1F8AE24B-0286-42A6-B61C-6B5AA54E274B',\n",
       "        '__CF_USER_TEXT_ENCODING': '0x1F5:0x0:0x0',\n",
       "        'SHLVL': '1',\n",
       "        'OLDPWD': '/Users/jjz',\n",
       "        'HOMEBREW_PREFIX': '/opt/homebrew',\n",
       "        'HOMEBREW_CELLAR': '/opt/homebrew/Cellar',\n",
       "        'HOMEBREW_REPOSITORY': '/opt/homebrew',\n",
       "        'MANPATH': '/opt/homebrew/share/man::',\n",
       "        'INFOPATH': '/opt/homebrew/share/info:',\n",
       "        'CONDA_EXE': '/opt/anaconda3/bin/conda',\n",
       "        '_CE_M': '',\n",
       "        '_CE_CONDA': '',\n",
       "        'CONDA_PYTHON_EXE': '/opt/anaconda3/bin/python',\n",
       "        'CONDA_SHLVL': '1',\n",
       "        'CONDA_PREFIX': '/opt/anaconda3',\n",
       "        'CONDA_DEFAULT_ENV': 'base',\n",
       "        'CONDA_PROMPT_MODIFIER': '(base) ',\n",
       "        '_': '/opt/anaconda3/bin/jupyter',\n",
       "        'PYDEVD_USE_FRAME_EVAL': 'NO',\n",
       "        'JPY_PARENT_PID': '88853',\n",
       "        'CLICOLOR': '1',\n",
       "        'PAGER': 'cat',\n",
       "        'GIT_PAGER': 'cat',\n",
       "        'MPLBACKEND': 'module://matplotlib_inline.backend_inline'}"
      ]
     },
     "execution_count": 50,
     "metadata": {},
     "output_type": "execute_result"
    }
   ],
   "source": [
    "def print_environment():\n",
    "    return os.environ  ##??Is this too easy? isn't it the same as os.environ??##\n",
    "print_environment()"
   ]
  },
  {
   "cell_type": "markdown",
   "id": "deda2a3a",
   "metadata": {},
   "source": [
    "# END"
   ]
  }
 ],
 "metadata": {
  "kernelspec": {
   "display_name": "Python 3 (ipykernel)",
   "language": "python",
   "name": "python3"
  },
  "language_info": {
   "codemirror_mode": {
    "name": "ipython",
    "version": 3
   },
   "file_extension": ".py",
   "mimetype": "text/x-python",
   "name": "python",
   "nbconvert_exporter": "python",
   "pygments_lexer": "ipython3",
   "version": "3.9.7"
  }
 },
 "nbformat": 4,
 "nbformat_minor": 5
}
