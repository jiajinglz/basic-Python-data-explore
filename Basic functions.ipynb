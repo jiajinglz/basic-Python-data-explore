{
 "cells": [
  {
   "cell_type": "markdown",
   "id": "64402da9",
   "metadata": {},
   "source": [
    "# Module 4 Assignment"
   ]
  },
  {
   "cell_type": "markdown",
   "id": "18099fcc",
   "metadata": {},
   "source": [
    "* Problem 1: Define a function called division.  This function accepts two arguments, which are numbers, and divides the first argument by the second. "
   ]
  },
  {
   "cell_type": "code",
   "execution_count": 1,
   "id": "1067f921",
   "metadata": {},
   "outputs": [],
   "source": [
    "def division(n1, n2):\n",
    "    div= n1/n2\n",
    "    return div"
   ]
  },
  {
   "cell_type": "code",
   "execution_count": 2,
   "id": "3e3d3964",
   "metadata": {},
   "outputs": [
    {
     "data": {
      "text/plain": [
       "2.0"
      ]
     },
     "execution_count": 2,
     "metadata": {},
     "output_type": "execute_result"
    }
   ],
   "source": [
    "#test problem 1 function\n",
    "division(n1=8, n2=4)"
   ]
  },
  {
   "cell_type": "markdown",
   "id": "714dcffd",
   "metadata": {},
   "source": [
    "* Problem 2: Define a function called multiply_numbers. The function accepts one argument which will be a tuple of numbers. The function will multiply all of the numbers together and return the result."
   ]
  },
  {
   "cell_type": "code",
   "execution_count": 3,
   "id": "73b44984",
   "metadata": {},
   "outputs": [],
   "source": [
    "def multiply_numbers(tup_nums):\n",
    "    result=1\n",
    "    for i in tup_nums:\n",
    "        result= result * i\n",
    "    return result"
   ]
  },
  {
   "cell_type": "code",
   "execution_count": 4,
   "id": "a7260bfd",
   "metadata": {},
   "outputs": [
    {
     "data": {
      "text/plain": [
       "720"
      ]
     },
     "execution_count": 4,
     "metadata": {},
     "output_type": "execute_result"
    }
   ],
   "source": [
    "#test problem 2 function\n",
    "my_tup= (1, 2, 3, 4, 5, 6)\n",
    "multiply_numbers(tup_nums= my_tup)"
   ]
  },
  {
   "cell_type": "markdown",
   "id": "9586239b",
   "metadata": {},
   "source": [
    "* Problem 3: Define a function called filter_list. This function will take two arguments. The first argument is a list of strings. The second argument is a string that the function will filter out of the list. The function should return a list that contains all of the items in the list input to it, except for any items that were equal to the second argument."
   ]
  },
  {
   "cell_type": "code",
   "execution_count": 5,
   "id": "d884997d",
   "metadata": {},
   "outputs": [],
   "source": [
    "def filter_list(list_string, string):\n",
    "    result= []\n",
    "    for i in list_string:\n",
    "        if i != string:\n",
    "            result.append(i)\n",
    "            continue\n",
    "    return result"
   ]
  },
  {
   "cell_type": "code",
   "execution_count": 6,
   "id": "230e2976",
   "metadata": {},
   "outputs": [
    {
     "data": {
      "text/plain": [
       "['uci', 'apple', 'student', 'staff', 'work', 'education']"
      ]
     },
     "execution_count": 6,
     "metadata": {},
     "output_type": "execute_result"
    }
   ],
   "source": [
    "#test problem 3 function\n",
    "my_list= ['uci', 'apple', 'student', 'staff', 'hello', 'work', 'education']\n",
    "my_word= 'hello'\n",
    "filter_list(list_string= my_list, string= my_word)"
   ]
  },
  {
   "cell_type": "markdown",
   "id": "ddb7c691",
   "metadata": {},
   "source": [
    "* Problem 4: Define a function called longest_word. The function takes one argument that is a list of words. The function should return the longest word in the list"
   ]
  },
  {
   "cell_type": "code",
   "execution_count": 20,
   "id": "ca7761e9",
   "metadata": {},
   "outputs": [],
   "source": [
    "def longest_word(list_words):\n",
    "    list_word_length= []\n",
    "    result= []\n",
    "    for i in list_words:\n",
    "        list_word_length.append(len(i))\n",
    "    for i in list_words: ##this for condition is needed, orelse index 0 is also printed, why????##\n",
    "        if len(i)== max(list_word_length):\n",
    "            result.append(i)\n",
    "    return result"
   ]
  },
  {
   "cell_type": "code",
   "execution_count": 21,
   "id": "1f19977a",
   "metadata": {},
   "outputs": [
    {
     "data": {
      "text/plain": [
       "['strawberry', 'watermelon']"
      ]
     },
     "execution_count": 21,
     "metadata": {},
     "output_type": "execute_result"
    }
   ],
   "source": [
    "#test problem 4 function\n",
    "my_list= ['apple', 'strawberry', 'pear', 'watermelon', 'peach', 'orange']\n",
    "longest_word(list_words= my_list)"
   ]
  },
  {
   "cell_type": "markdown",
   "id": "b5b0a769",
   "metadata": {},
   "source": [
    "* Problem 5: Define a function called list_to_unique.  This function accepts one argument, which is a list of anything (number, string, etc…). The function should return a list of only the unique items (no duplicates). The list that is returned should have the items in the same order as they were in the input list. "
   ]
  },
  {
   "cell_type": "code",
   "execution_count": 3,
   "id": "b07cc37e",
   "metadata": {},
   "outputs": [],
   "source": [
    "def list_to_unique(input_list):\n",
    "    unique_list= []\n",
    "    for i in input_list:\n",
    "        while i not in unique_list:\n",
    "            unique_list.append(i)\n",
    "    return unique_list"
   ]
  },
  {
   "cell_type": "code",
   "execution_count": 4,
   "id": "5ff85883",
   "metadata": {},
   "outputs": [
    {
     "name": "stdout",
     "output_type": "stream",
     "text": [
      "['hello', 'uci', 'student', 'education', 'science']\n",
      "[1, 2, 3, 5, 8, 10, 6, 12, 99]\n"
     ]
    }
   ],
   "source": [
    "#test problem 5 function\n",
    "my_list1= ['hello', 'uci', 'student', 'uci', 'education', 'science', 'student']\n",
    "test1= list_to_unique(input_list= my_list1)\n",
    "print(test1)\n",
    "my_list2= [1, 2, 3, 5, 1, 8, 10, 3, 6, 12, 99, 99]\n",
    "test2= list_to_unique(input_list= my_list2)\n",
    "print(test2)"
   ]
  },
  {
   "cell_type": "markdown",
   "id": "83e4b4cc",
   "metadata": {},
   "source": [
    "# END"
   ]
  },
  {
   "cell_type": "code",
   "execution_count": null,
   "id": "0096a20b",
   "metadata": {},
   "outputs": [],
   "source": []
  }
 ],
 "metadata": {
  "kernelspec": {
   "display_name": "Python 3 (ipykernel)",
   "language": "python",
   "name": "python3"
  },
  "language_info": {
   "codemirror_mode": {
    "name": "ipython",
    "version": 3
   },
   "file_extension": ".py",
   "mimetype": "text/x-python",
   "name": "python",
   "nbconvert_exporter": "python",
   "pygments_lexer": "ipython3",
   "version": "3.9.7"
  }
 },
 "nbformat": 4,
 "nbformat_minor": 5
}
