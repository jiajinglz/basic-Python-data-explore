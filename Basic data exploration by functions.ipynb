{
 "cells": [
  {
   "cell_type": "markdown",
   "id": "0f5e5d02",
   "metadata": {},
   "source": [
    "# Module 7 Assignment"
   ]
  },
  {
   "cell_type": "code",
   "execution_count": 103,
   "id": "b02d2753",
   "metadata": {},
   "outputs": [],
   "source": [
    "import os\n",
    "import re"
   ]
  },
  {
   "cell_type": "markdown",
   "id": "77d1d61f",
   "metadata": {},
   "source": [
    "* Problem 1: Create a function called calc_file_length. This function will accept one argument which will be a file path that points to a text file.  The function will first check if the file exists. If the file does not exist, the function will return False. Otherwise, if the file does exist, the function will open the file and count the number of lines in the file. The function will return the number of lines."
   ]
  },
  {
   "cell_type": "code",
   "execution_count": 66,
   "id": "27b5be22",
   "metadata": {},
   "outputs": [
    {
     "data": {
      "text/plain": [
       "732"
      ]
     },
     "execution_count": 66,
     "metadata": {},
     "output_type": "execute_result"
    }
   ],
   "source": [
    "#define the function#\n",
    "#function requires os imported#\n",
    "def calc_file_length(filename):\n",
    "    if os.path.isfile(filename):\n",
    "        with open(filename, 'r') as datafile:\n",
    "            line_count= 0\n",
    "            for line in datafile:\n",
    "                line_count += 1\n",
    "        return line_count\n",
    "    else:\n",
    "        return 'False'\n",
    "\n",
    "#test the function#\n",
    "calc_file_length(filename= os.path.join(os.getcwd(), 'day.csv'))"
   ]
  },
  {
   "cell_type": "markdown",
   "id": "b3e7863c",
   "metadata": {},
   "source": [
    "* Problem 2: Define a  function called parse_weather_data_file.  This function will accept one argument which will be a file path that points to a text file. The function parse_weather_data_file should open the file and then split each line into the three fields, as it reads through the file line. It should create a dictionary for each line, as it reads through the lines. The dictionary should have the keys ‘station_id’, ‘temperature’, and ‘relative_humidiy’. The values should be filled in from the line.  Each dictionary should be added to a list. The function should then return this list."
   ]
  },
  {
   "cell_type": "code",
   "execution_count": 101,
   "id": "b45b885d",
   "metadata": {},
   "outputs": [
    {
     "data": {
      "text/plain": [
       "[{'station_id': '12345678', 'temperature': '-01', 'relative_humidity': '76'},\n",
       " {'station_id': '14342378', 'temperature': '+03', 'relative_humidity': '21'},\n",
       " {'station_id': '92745371', 'temperature': '+07', 'relative_humidity': '53'}]"
      ]
     },
     "execution_count": 101,
     "metadata": {},
     "output_type": "execute_result"
    }
   ],
   "source": [
    "#define the function#\n",
    "def parse_weather_date_file(filename):\n",
    "    data_list= [] \n",
    "    with open(filename, 'r') as datafile:\n",
    "        for line in datafile:\n",
    "            line_stripped= line.strip()\n",
    "            my_dictionary= {'station_id': line_stripped[0:8], 'temperature': line_stripped[8:11], \n",
    "                        'relative_humidity': line_stripped[11:14]}\n",
    "            data_list.append(my_dictionary)\n",
    "    return data_list\n",
    "\n",
    "#test the function#\n",
    "parse_weather_date_file(os.path.join(os.getcwd(), 'weather.txt'))\n",
    "            "
   ]
  },
  {
   "cell_type": "markdown",
   "id": "ae34d794",
   "metadata": {},
   "source": [
    "* Problem 3: Write a function called word_count. This function will accept one argument, which will be a file path to a file. The function will read this file and return a dictionary that has the counts of each word in the file. "
   ]
  },
  {
   "cell_type": "code",
   "execution_count": 128,
   "id": "d0e8a80d",
   "metadata": {},
   "outputs": [
    {
     "data": {
      "text/plain": [
       "{'I': 3,\n",
       " 'like': 3,\n",
       " 'apples': 2,\n",
       " 'bananas': 1,\n",
       " 'and': 1,\n",
       " 'pears': 1,\n",
       " 'also': 1,\n",
       " 'pumpkins': 1,\n",
       " 'but': 1,\n",
       " 'the': 1,\n",
       " 'most': 1}"
      ]
     },
     "execution_count": 128,
     "metadata": {},
     "output_type": "execute_result"
    }
   ],
   "source": [
    "#define the function#\n",
    "#the function requires re imported#\n",
    "def word_count(filename):\n",
    "    my_list= []\n",
    "    counts= dict()\n",
    "    with open(filename, 'r') as datafile:\n",
    "        for line in datafile:\n",
    "            line_stripped= line.strip()\n",
    "            words= re.split('\\W+', line_stripped) #this generates an empty string, but example in class doesnt?? why?#\n",
    "            words_only= list(filter(lambda x: x!= '', words))\n",
    "            my_list.extend(words_only)\n",
    "        for i in my_list:\n",
    "            if i in counts:\n",
    "                counts[i] += 1\n",
    "            else:\n",
    "                counts[i]= 1\n",
    "    return counts\n",
    "\n",
    "#test the function#\n",
    "word_count(filename= os.path.join(os.getcwd(), 'words.txt'))"
   ]
  },
  {
   "cell_type": "markdown",
   "id": "ddc38576",
   "metadata": {},
   "source": [
    "* Problem 4: Write a function called write_to_file. It will accept two arguments. The first argument will be a file path to the location of a file that you want to create. The second will be a list of text lines that you want written to the new file. The function should create the file and then write the lines of text to the file. The function should write each line of text on its own line in the file; assume the lines of text do not have carriage returns. "
   ]
  },
  {
   "cell_type": "code",
   "execution_count": 131,
   "id": "459f739e",
   "metadata": {},
   "outputs": [],
   "source": [
    "#define the function#\n",
    "def write_to_file(destinate_file, content):\n",
    "    with open(destinate_file, 'w') as datafile:\n",
    "        for line in content:\n",
    "            datafile.write(line+ '\\n')\n",
    "    return\n",
    "\n",
    "#test the function#\n",
    "my_list= ['hello', 'test', 'my', 'code']\n",
    "write_to_file(destinate_file= os.path.join(os.getcwd(), 'test.txt'), content= my_list)"
   ]
  },
  {
   "cell_type": "markdown",
   "id": "3cff8e0d",
   "metadata": {},
   "source": [
    "* Problem 5: Write a function called copy_file. This function will accept two arguments. The first argument will be a file path that points to a text file that exists. The second argument will be a file path that points to a location where you’d like to copy the first file. The function will open both files (creating the second), it will then read in the lines of the first file and then write them to the second file.  It will do this reading and writing process line by line; it should not read in all of the first file, before writing the contents to the second file."
   ]
  },
  {
   "cell_type": "code",
   "execution_count": 132,
   "id": "5097d9bf",
   "metadata": {},
   "outputs": [],
   "source": [
    "#define the function#\n",
    "def copy_file(in_file, de_file):\n",
    "    with open(in_file, 'r') as readFile, open(de_file, 'w') as writeFile:\n",
    "        for line in readFile: ## is this reading line by line??##\n",
    "            writeFile.write(line)\n",
    "    return\n",
    "\n",
    "#test the function#\n",
    "copy_file(in_file= os.path.join(os.getcwd(), 'test.txt'), de_file= os.path.join(os.getcwd(), 'test2.txt'))"
   ]
  },
  {
   "cell_type": "markdown",
   "id": "634ab956",
   "metadata": {},
   "source": [
    "# END"
   ]
  }
 ],
 "metadata": {
  "kernelspec": {
   "display_name": "Python 3 (ipykernel)",
   "language": "python",
   "name": "python3"
  },
  "language_info": {
   "codemirror_mode": {
    "name": "ipython",
    "version": 3
   },
   "file_extension": ".py",
   "mimetype": "text/x-python",
   "name": "python",
   "nbconvert_exporter": "python",
   "pygments_lexer": "ipython3",
   "version": "3.9.7"
  }
 },
 "nbformat": 4,
 "nbformat_minor": 5
}
