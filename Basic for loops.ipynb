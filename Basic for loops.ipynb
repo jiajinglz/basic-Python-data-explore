{
 "cells": [
  {
   "cell_type": "markdown",
   "id": "ac42c27b",
   "metadata": {},
   "source": [
    "# Module 3 Assignment\n",
    "control the flow of your code"
   ]
  },
  {
   "cell_type": "markdown",
   "id": "77190631",
   "metadata": {},
   "source": [
    "* Problem 1:  Write a for loop that prints the numbers 0 through 9. You can use the range() function like we did in the lecture."
   ]
  },
  {
   "cell_type": "code",
   "execution_count": 1,
   "id": "e958da5e",
   "metadata": {},
   "outputs": [
    {
     "name": "stdout",
     "output_type": "stream",
     "text": [
      "0\n",
      "1\n",
      "2\n",
      "3\n",
      "4\n",
      "5\n",
      "6\n",
      "7\n",
      "8\n",
      "9\n"
     ]
    }
   ],
   "source": [
    "my_list= range(10)\n",
    "for number in my_list:\n",
    "    print(number)"
   ]
  },
  {
   "cell_type": "markdown",
   "id": "e75c4e6e",
   "metadata": {},
   "source": [
    "* Problem 2: Write a for loop that is very similar to problem 1; it will print the numbers 0 through 9. It will also print ‘zero’, ‘even’ or ‘odd’ on each loop, depending on if the number it is printing is ‘zero’, ‘even’, or ‘odd’. For example, on the first loop, it should print 0 and ‘zero’; on the second loop, it should print 1 and ‘odd’; on the third loop, it should print 2 and ‘even’.  \n",
    "Use the modulo operator to test if a number is even. The modulo operator in python is ‘%’. The modulo divides one number by the other and returns the remainder.  Here are some examples of using the modulo operator:\n"
   ]
  },
  {
   "cell_type": "code",
   "execution_count": 10,
   "id": "e89fe874",
   "metadata": {},
   "outputs": [
    {
     "name": "stdout",
     "output_type": "stream",
     "text": [
      "0 is a zero\n",
      "1 is an odd number\n",
      "2 is a even number\n",
      "3 is an odd number\n",
      "4 is a even number\n",
      "5 is an odd number\n",
      "6 is a even number\n",
      "7 is an odd number\n",
      "8 is a even number\n",
      "9 is an odd number\n"
     ]
    }
   ],
   "source": [
    "my_list= range(10)\n",
    "for number in my_list:\n",
    "    if number == 0:\n",
    "        print(number, 'is a zero')\n",
    "    elif number != 0 and number %2 != 0:\n",
    "        print(number, 'is an odd number')\n",
    "    else:\n",
    "        print(number, 'is a even number')"
   ]
  },
  {
   "cell_type": "markdown",
   "id": "16619ee1",
   "metadata": {},
   "source": [
    "* Problem 3: Create a variable named my_var with the value 2. Then, write a while loop that multiplies the value of my_var by a factor of 1.65 on each loop. The while loop will continue while my_var is less than 100. Then, after the while loop completes, print the value of my_var."
   ]
  },
  {
   "cell_type": "code",
   "execution_count": 13,
   "id": "10e96883",
   "metadata": {},
   "outputs": [
    {
     "name": "stdout",
     "output_type": "stream",
     "text": [
      "2\n",
      "3.3\n",
      "5.444999999999999\n",
      "8.98425\n",
      "14.824012499999998\n",
      "24.459620624999996\n",
      "40.358374031249994\n",
      "66.59131715156249\n"
     ]
    }
   ],
   "source": [
    "my_var = 2\n",
    "while my_var < 100:\n",
    "    print(my_var)\n",
    "    my_var= my_var*1.65"
   ]
  },
  {
   "cell_type": "markdown",
   "id": "0979c73b",
   "metadata": {},
   "source": [
    "* Problem 4: For this problem, you will write some code that checks the weight of a package and then determines the price of shipping based on the weight.  The weight of the package will be represented by a variable named package_weight, and the price of shipping is represented by a variable named shipping_cost.  If the package_weight is less than or equal to 5, the shipping_cost should be 3; else if the package weight is greater than 5 and less than or equal to 10, the shipping_cost should be 7, otherwise (if the package is even heavier) the shipping_cost should be 15."
   ]
  },
  {
   "cell_type": "code",
   "execution_count": 19,
   "id": "39649034",
   "metadata": {},
   "outputs": [
    {
     "name": "stdout",
     "output_type": "stream",
     "text": [
      "Since package weight is 500 , which is greater than 10, shipping cost is $15\n"
     ]
    }
   ],
   "source": [
    "package_weight = 500\n",
    "if package_weight <= 5:\n",
    "    print('Since package weight is', package_weight, ', which is less than 5, shipping cost is $3')\n",
    "elif package_weight >5 and package_weight <= 10:\n",
    "    print('Since package weight is', package_weight, ', which is between 5 and 10, shipping cost is $7')\n",
    "else:\n",
    "    print('Since package weight is', package_weight, ', which is greater than 10, shipping cost is $15')"
   ]
  },
  {
   "cell_type": "markdown",
   "id": "2a0e504a",
   "metadata": {},
   "source": [
    "* Problem 5: Write a for loop that loops through a list of dictionaries. The code inside the loop will check if the dictionary contains the key ‘name’. If the dictionary does contain the key ‘name’, then the code will print the value of that key."
   ]
  },
  {
   "cell_type": "code",
   "execution_count": 46,
   "id": "b3cae13c",
   "metadata": {},
   "outputs": [
    {
     "name": "stdout",
     "output_type": "stream",
     "text": [
      "John\n",
      "this entry has no name\n",
      "Kate\n",
      "this entry has no name\n"
     ]
    }
   ],
   "source": [
    "student1 = {'name': 'John', 'major': 'biology', 'year': 2}\n",
    "student2 = {'age': 20, 'major': 'chemistry', 'year': 1}\n",
    "student3 = {'name': 'Kate', 'major': 'computer science', 'year': 4}\n",
    "student4 = {'state': 'CA', 'major': 'business', 'year': 3}\n",
    "my_list = [student1, student2, student3, student4]\n",
    "\n",
    "for i in my_list:\n",
    "    if 'name' in i:\n",
    "        print(i['name'])\n",
    "    else:\n",
    "        print('this entry has no name')"
   ]
  },
  {
   "cell_type": "markdown",
   "id": "a24b0ba8",
   "metadata": {},
   "source": [
    "# END"
   ]
  },
  {
   "cell_type": "code",
   "execution_count": null,
   "id": "dbbc483e",
   "metadata": {},
   "outputs": [],
   "source": []
  }
 ],
 "metadata": {
  "kernelspec": {
   "display_name": "Python 3 (ipykernel)",
   "language": "python",
   "name": "python3"
  },
  "language_info": {
   "codemirror_mode": {
    "name": "ipython",
    "version": 3
   },
   "file_extension": ".py",
   "mimetype": "text/x-python",
   "name": "python",
   "nbconvert_exporter": "python",
   "pygments_lexer": "ipython3",
   "version": "3.9.7"
  }
 },
 "nbformat": 4,
 "nbformat_minor": 5
}
