{
 "cells": [
  {
   "cell_type": "markdown",
   "id": "1ca7a3dc",
   "metadata": {},
   "source": [
    "# Module 5 Assignment"
   ]
  },
  {
   "cell_type": "markdown",
   "id": "ea36f6e5",
   "metadata": {},
   "source": [
    "* Problem 1: Create the following variable, my_word_list = [‘apple’, ‘orange’, ‘banana’]. Then, use the map function (and lambda keyword) to produce the list [‘_apple’ ,’_orange’, ’_banana’]. Assign the list to the variable, my_new_word_list, and print it."
   ]
  },
  {
   "cell_type": "code",
   "execution_count": 5,
   "id": "d1980cf8",
   "metadata": {},
   "outputs": [
    {
     "name": "stdout",
     "output_type": "stream",
     "text": [
      "['_apple', '_orange', '_banana']\n"
     ]
    }
   ],
   "source": [
    "my_word_list= ['apple', 'orange', 'banana']\n",
    "output= map(lambda x: '_'+ x, my_word_list)\n",
    "my_new_word_list= list(output)\n",
    "print(my_new_word_list)"
   ]
  },
  {
   "cell_type": "markdown",
   "id": "c05012cb",
   "metadata": {},
   "source": [
    "* Problem 2: Create the following variable, my_state_list = [‘CA’, ‘OR’, ‘NY’, 'OR’]. Use the filter and lambda keyword to produce the list [‘CA’, ‘NY’]. Assign this list to the variable my_new_state_list, and print it"
   ]
  },
  {
   "cell_type": "code",
   "execution_count": 6,
   "id": "cac9e511",
   "metadata": {},
   "outputs": [
    {
     "name": "stdout",
     "output_type": "stream",
     "text": [
      "['CA', 'NY']\n"
     ]
    }
   ],
   "source": [
    "my_state_list= ['CA', 'OR', 'NY', 'OR']\n",
    "output= filter(lambda x: x in ['CA', 'NY'], my_state_list)\n",
    "my_new_state_list= list(output)\n",
    "print(my_new_state_list)"
   ]
  },
  {
   "cell_type": "markdown",
   "id": "ac66ef83",
   "metadata": {},
   "source": [
    "* Problem 3: Create the following variable, my_number_list = [1, 2, 3, 4, 5]. Use a list comprehension to multiply each number by 3, and produce the list [3, 6, 9, 12, 15]. Assign this to the variable, my_new_number_list, and print it."
   ]
  },
  {
   "cell_type": "code",
   "execution_count": 8,
   "id": "c6788cf5",
   "metadata": {},
   "outputs": [
    {
     "name": "stdout",
     "output_type": "stream",
     "text": [
      "[3, 6, 9, 12, 15]\n"
     ]
    }
   ],
   "source": [
    "my_number_list= [1, 2, 3, 4, 5]\n",
    "my_new_number_list= [x*3 for x in my_number_list]\n",
    "print(my_new_number_list)"
   ]
  },
  {
   "cell_type": "markdown",
   "id": "befb0a43",
   "metadata": {},
   "source": [
    "* Problem 4: Create the following two lists, list_of_words = [‘love’, ‘the’, ‘outdoors’, ‘with’ , ’passion’], and words_to_temove = [‘the’, ‘with’, ‘of’, ‘a’]. Then create a new list that only contains the words in list_of_words that are not in wordsToRemove. Do this with a list comprehension. You will have an ‘if’ statement in your list comprehension. We did something similar in the lectures."
   ]
  },
  {
   "cell_type": "code",
   "execution_count": 10,
   "id": "ba8fc97d",
   "metadata": {},
   "outputs": [
    {
     "name": "stdout",
     "output_type": "stream",
     "text": [
      "['love', 'outdoors', 'passion']\n"
     ]
    }
   ],
   "source": [
    "list_of_words= ['love', 'the', 'outdoors', 'with' , 'passion']\n",
    "words_to_remove= ['the', 'with', 'of', 'a']\n",
    "output= [x for x in list_of_words if x not in words_to_remove]\n",
    "print(output)"
   ]
  },
  {
   "cell_type": "markdown",
   "id": "010dec23",
   "metadata": {},
   "source": [
    "* Problem 5: Repeat problem 4, except this time accomplish it using the filter function, instead of using a list comprehension."
   ]
  },
  {
   "cell_type": "code",
   "execution_count": 13,
   "id": "5681fa37",
   "metadata": {},
   "outputs": [
    {
     "name": "stdout",
     "output_type": "stream",
     "text": [
      "['love', 'outdoors', 'passion']\n"
     ]
    }
   ],
   "source": [
    "list_of_words= ['love', 'the', 'outdoors', 'with' , 'passion']\n",
    "words_to_remove= ['the', 'with', 'of', 'a']\n",
    "output= filter(lambda x: x not in words_to_remove, list_of_words)\n",
    "filtered_list= list(output)\n",
    "print(filtered_list)"
   ]
  },
  {
   "cell_type": "markdown",
   "id": "258abf1b",
   "metadata": {},
   "source": [
    "# END"
   ]
  }
 ],
 "metadata": {
  "kernelspec": {
   "display_name": "Python 3 (ipykernel)",
   "language": "python",
   "name": "python3"
  },
  "language_info": {
   "codemirror_mode": {
    "name": "ipython",
    "version": 3
   },
   "file_extension": ".py",
   "mimetype": "text/x-python",
   "name": "python",
   "nbconvert_exporter": "python",
   "pygments_lexer": "ipython3",
   "version": "3.9.7"
  }
 },
 "nbformat": 4,
 "nbformat_minor": 5
}
